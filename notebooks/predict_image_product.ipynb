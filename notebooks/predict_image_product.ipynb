{
 "cells": [
  {
   "cell_type": "code",
   "execution_count": 1,
   "metadata": {},
   "outputs": [],
   "source": [
    "import sys\n",
    "import os\n",
    "import glob\n",
    "from PIL import Image\n",
    "from collections import Counter\n",
    "from  sklearn.neighbors import NearestNeighbors\n",
    "from IPython.display import display\n",
    "\n",
    "sys.path.append(os.path.dirname(os.getcwd()))\n",
    "\n",
    "from src.img2vec_resnet18 import Img2VecResnet18"
   ]
  },
  {
   "cell_type": "code",
   "execution_count": 2,
   "metadata": {},
   "outputs": [],
   "source": [
    "# Define the paths and parameters\n",
    "MODEL_PATH = '../models/best.pt'\n",
    "DATA_PATH = \"../data\"\n",
    "IMG_DIR = '../data/img/cocacola_bottle.jpeg'\n",
    "N_NEIGHBORS = 5"
   ]
  },
  {
   "attachments": {},
   "cell_type": "markdown",
   "metadata": {},
   "source": [
    "# Get knowledge base images embeddings"
   ]
  },
  {
   "cell_type": "code",
   "execution_count": 3,
   "metadata": {},
   "outputs": [],
   "source": [
    "# Get a list of image file paths using glob\n",
    "list_imgs = glob.glob(f\"{DATA_PATH}/knowledge_base/crops/object/**/*.jpg\")\n",
    "\n",
    "# Create an instance of the Img2VecResnet18 model\n",
    "img2vec = Img2VecResnet18()\n",
    "\n",
    "# Create empty lists to store classes and embeddings\n",
    "classes = []\n",
    "embeddings = []\n",
    "\n",
    "# Iterate over each image file\n",
    "for filename in list_imgs:\n",
    "    # Open the image file\n",
    "    I = Image.open(filename)\n",
    "    \n",
    "    # Get the feature vector representation of the image using img2vec.getVec()\n",
    "    vec = img2vec.getVec(I)\n",
    "    \n",
    "    # Close the image file\n",
    "    I.close()\n",
    "    \n",
    "    # Extract the folder path and name of the image file\n",
    "    folder_path = os.path.dirname(filename)\n",
    "    folder_name = os.path.basename(folder_path)\n",
    "    \n",
    "    # Append the folder name (class) and feature vector to the lists\n",
    "    classes.append(folder_name)\n",
    "    embeddings.append(vec)"
   ]
  },
  {
   "attachments": {},
   "cell_type": "markdown",
   "metadata": {},
   "source": [
    "# Get distances and more similar products"
   ]
  },
  {
   "cell_type": "code",
   "execution_count": 4,
   "metadata": {},
   "outputs": [],
   "source": [
    "# Create a NearestNeighbors model and fit it with the embeddings\n",
    "model_knn = NearestNeighbors(metric='cosine', n_neighbors=N_NEIGHBORS)\n",
    "model_knn.fit(embeddings)\n",
    "\n",
    "# Open the target image file\n",
    "I = Image.open(IMG_DIR)\n",
    "\n",
    "# Get the feature vector representation of the target image\n",
    "vec = img2vec.getVec(I)\n",
    "\n",
    "# Close the target image file\n",
    "I.close()\n",
    "\n",
    "# Find the nearest neighbors and distances to the target image\n",
    "dists, idx = model_knn.kneighbors([vec])"
   ]
  },
  {
   "cell_type": "code",
   "execution_count": 5,
   "metadata": {},
   "outputs": [
    {
     "name": "stdout",
     "output_type": "stream",
     "text": [
      "The image has been identified as a cocacola_pet with a 100% probability\n"
     ]
    },
    {
     "data": {
      "image/png": "[encoded data removed]",
      "text/plain": [
       "<PIL.JpegImagePlugin.JpegImageFile image mode=RGB size=51x172>"
      ]
     },
     "metadata": {},
     "output_type": "display_data"
    }
   ],
   "source": [
    "# Get the class labels of the nearest neighbors\n",
    "brands_nearest_neighbors = [classes[i] for i in list(idx[0])]\n",
    "\n",
    "# Count the occurrences of each class label\n",
    "count = Counter(brands_nearest_neighbors)\n",
    "\n",
    "# Get the most common class and its count\n",
    "product, n = sorted(count.items(), key=lambda item: item[1])[-1]\n",
    "\n",
    "# Print the identified product and the probability\n",
    "print(f\"The image has been identified as a {product} with a {n/N_NEIGHBORS:.0%} probability\")\n",
    "\n",
    "# Open the target image again\n",
    "I = Image.open(IMG_DIR)\n",
    "\n",
    "# Display the target image\n",
    "display(I)\n",
    "\n",
    "# Close the target image file\n",
    "I.close()"
   ]
  }
 ],
 "metadata": {
  "kernelspec": {
   "display_name": "Python 3",
   "language": "python",
   "name": "python3"
  },
  "language_info": {
   "codemirror_mode": {
    "name": "ipython",
    "version": 3
   },
   "file_extension": ".py",
   "mimetype": "text/x-python",
   "name": "python",
   "nbconvert_exporter": "python",
   "pygments_lexer": "ipython3",
   "version": "3.11.3"
  }
 },
 "nbformat": 4,
 "nbformat_minor": 2
}
